{
  "nbformat": 4,
  "nbformat_minor": 0,
  "metadata": {
    "colab": {
      "name": "Multiclass Text Classification.ipynb",
      "provenance": []
    },
    "kernelspec": {
      "name": "python3",
      "display_name": "Python 3"
    },
    "language_info": {
      "name": "python"
    }
  },
  "cells": [
    {
      "cell_type": "code",
      "metadata": {
        "id": "3bRiAHqCIxi7"
      },
      "source": [
        "import pandas as pd\n",
        "df = pd.read_csv('imdb_indonesian_movies_2.csv')\n",
        "df = df.drop(columns=['judul_film'])"
      ],
      "execution_count": null,
      "outputs": []
    },
    {
      "cell_type": "code",
      "metadata": {
        "colab": {
          "base_uri": "https://localhost:8080/",
          "height": 206
        },
        "id": "MLFoPnwvI9Gw",
        "outputId": "bf5b3d91-0813-4ceb-e177-c6ca32e845f7"
      },
      "source": [
        "df.head()"
      ],
      "execution_count": null,
      "outputs": [
        {
          "output_type": "execute_result",
          "data": {
            "text/html": [
              "<div>\n",
              "<style scoped>\n",
              "    .dataframe tbody tr th:only-of-type {\n",
              "        vertical-align: middle;\n",
              "    }\n",
              "\n",
              "    .dataframe tbody tr th {\n",
              "        vertical-align: top;\n",
              "    }\n",
              "\n",
              "    .dataframe thead th {\n",
              "        text-align: right;\n",
              "    }\n",
              "</style>\n",
              "<table border=\"1\" class=\"dataframe\">\n",
              "  <thead>\n",
              "    <tr style=\"text-align: right;\">\n",
              "      <th></th>\n",
              "      <th>ringkasan_sinopsis</th>\n",
              "      <th>genre</th>\n",
              "    </tr>\n",
              "  </thead>\n",
              "  <tbody>\n",
              "    <tr>\n",
              "      <th>0</th>\n",
              "      <td>Raden Mas Said putra sulung Tumenggung Wilarik...</td>\n",
              "      <td>Drama</td>\n",
              "    </tr>\n",
              "    <tr>\n",
              "      <th>1</th>\n",
              "      <td>Soe Hok Gie adalah seorang aktivis yang hidup ...</td>\n",
              "      <td>Drama</td>\n",
              "    </tr>\n",
              "    <tr>\n",
              "      <th>2</th>\n",
              "      <td>Guru Bangsa Tjokroaminoto menceritakan tentang...</td>\n",
              "      <td>Drama</td>\n",
              "    </tr>\n",
              "    <tr>\n",
              "      <th>3</th>\n",
              "      <td>POL menceritakan kisah hidup yang luar biasa d...</td>\n",
              "      <td>Drama</td>\n",
              "    </tr>\n",
              "    <tr>\n",
              "      <th>4</th>\n",
              "      <td>Perjalanan pahlawan Indonesia KH Ahmad Dahlan ...</td>\n",
              "      <td>Drama</td>\n",
              "    </tr>\n",
              "  </tbody>\n",
              "</table>\n",
              "</div>"
            ],
            "text/plain": [
              "                                  ringkasan_sinopsis  genre\n",
              "0  Raden Mas Said putra sulung Tumenggung Wilarik...  Drama\n",
              "1  Soe Hok Gie adalah seorang aktivis yang hidup ...  Drama\n",
              "2  Guru Bangsa Tjokroaminoto menceritakan tentang...  Drama\n",
              "3  POL menceritakan kisah hidup yang luar biasa d...  Drama\n",
              "4  Perjalanan pahlawan Indonesia KH Ahmad Dahlan ...  Drama"
            ]
          },
          "metadata": {},
          "execution_count": 4
        }
      ]
    },
    {
      "cell_type": "code",
      "metadata": {
        "colab": {
          "base_uri": "https://localhost:8080/",
          "height": 423
        },
        "id": "GgEbu9WTJBTf",
        "outputId": "dbce39a4-6f55-49a0-b2d5-28eb866d9da5"
      },
      "source": [
        "#melakukan proses one-hot-encoding.\n",
        "category = pd.get_dummies(df.genre)\n",
        "df_baru = pd.concat([df, category], axis=1)\n",
        "df_baru = df_baru.drop(columns='genre')\n",
        "df_baru"
      ],
      "execution_count": null,
      "outputs": [
        {
          "output_type": "execute_result",
          "data": {
            "text/html": [
              "<div>\n",
              "<style scoped>\n",
              "    .dataframe tbody tr th:only-of-type {\n",
              "        vertical-align: middle;\n",
              "    }\n",
              "\n",
              "    .dataframe tbody tr th {\n",
              "        vertical-align: top;\n",
              "    }\n",
              "\n",
              "    .dataframe thead th {\n",
              "        text-align: right;\n",
              "    }\n",
              "</style>\n",
              "<table border=\"1\" class=\"dataframe\">\n",
              "  <thead>\n",
              "    <tr style=\"text-align: right;\">\n",
              "      <th></th>\n",
              "      <th>ringkasan_sinopsis</th>\n",
              "      <th>Drama</th>\n",
              "      <th>Horor</th>\n",
              "      <th>Komedi</th>\n",
              "      <th>Laga</th>\n",
              "      <th>Romantis</th>\n",
              "    </tr>\n",
              "  </thead>\n",
              "  <tbody>\n",
              "    <tr>\n",
              "      <th>0</th>\n",
              "      <td>Raden Mas Said putra sulung Tumenggung Wilarik...</td>\n",
              "      <td>1</td>\n",
              "      <td>0</td>\n",
              "      <td>0</td>\n",
              "      <td>0</td>\n",
              "      <td>0</td>\n",
              "    </tr>\n",
              "    <tr>\n",
              "      <th>1</th>\n",
              "      <td>Soe Hok Gie adalah seorang aktivis yang hidup ...</td>\n",
              "      <td>1</td>\n",
              "      <td>0</td>\n",
              "      <td>0</td>\n",
              "      <td>0</td>\n",
              "      <td>0</td>\n",
              "    </tr>\n",
              "    <tr>\n",
              "      <th>2</th>\n",
              "      <td>Guru Bangsa Tjokroaminoto menceritakan tentang...</td>\n",
              "      <td>1</td>\n",
              "      <td>0</td>\n",
              "      <td>0</td>\n",
              "      <td>0</td>\n",
              "      <td>0</td>\n",
              "    </tr>\n",
              "    <tr>\n",
              "      <th>3</th>\n",
              "      <td>POL menceritakan kisah hidup yang luar biasa d...</td>\n",
              "      <td>1</td>\n",
              "      <td>0</td>\n",
              "      <td>0</td>\n",
              "      <td>0</td>\n",
              "      <td>0</td>\n",
              "    </tr>\n",
              "    <tr>\n",
              "      <th>4</th>\n",
              "      <td>Perjalanan pahlawan Indonesia KH Ahmad Dahlan ...</td>\n",
              "      <td>1</td>\n",
              "      <td>0</td>\n",
              "      <td>0</td>\n",
              "      <td>0</td>\n",
              "      <td>0</td>\n",
              "    </tr>\n",
              "    <tr>\n",
              "      <th>...</th>\n",
              "      <td>...</td>\n",
              "      <td>...</td>\n",
              "      <td>...</td>\n",
              "      <td>...</td>\n",
              "      <td>...</td>\n",
              "      <td>...</td>\n",
              "    </tr>\n",
              "    <tr>\n",
              "      <th>1000</th>\n",
              "      <td>Winter in Tokyo berpusat pada kehidupan Ishida...</td>\n",
              "      <td>0</td>\n",
              "      <td>0</td>\n",
              "      <td>0</td>\n",
              "      <td>0</td>\n",
              "      <td>1</td>\n",
              "    </tr>\n",
              "    <tr>\n",
              "      <th>1001</th>\n",
              "      <td>Markonah melarikan diri ke Jakarta karena akan...</td>\n",
              "      <td>0</td>\n",
              "      <td>0</td>\n",
              "      <td>0</td>\n",
              "      <td>0</td>\n",
              "      <td>1</td>\n",
              "    </tr>\n",
              "    <tr>\n",
              "      <th>1002</th>\n",
              "      <td>Tempat aking lebih dari 36 jam, Last Night ada...</td>\n",
              "      <td>0</td>\n",
              "      <td>0</td>\n",
              "      <td>0</td>\n",
              "      <td>0</td>\n",
              "      <td>1</td>\n",
              "    </tr>\n",
              "    <tr>\n",
              "      <th>1003</th>\n",
              "      <td>Proyek baru ini adalah tentang seorang lelaki ...</td>\n",
              "      <td>0</td>\n",
              "      <td>0</td>\n",
              "      <td>0</td>\n",
              "      <td>0</td>\n",
              "      <td>1</td>\n",
              "    </tr>\n",
              "    <tr>\n",
              "      <th>1004</th>\n",
              "      <td>Atika (Meriam Bellina) mantan penyanyi tenar, ...</td>\n",
              "      <td>0</td>\n",
              "      <td>0</td>\n",
              "      <td>0</td>\n",
              "      <td>0</td>\n",
              "      <td>1</td>\n",
              "    </tr>\n",
              "  </tbody>\n",
              "</table>\n",
              "<p>1005 rows × 6 columns</p>\n",
              "</div>"
            ],
            "text/plain": [
              "                                     ringkasan_sinopsis  Drama  ...  Laga  Romantis\n",
              "0     Raden Mas Said putra sulung Tumenggung Wilarik...      1  ...     0         0\n",
              "1     Soe Hok Gie adalah seorang aktivis yang hidup ...      1  ...     0         0\n",
              "2     Guru Bangsa Tjokroaminoto menceritakan tentang...      1  ...     0         0\n",
              "3     POL menceritakan kisah hidup yang luar biasa d...      1  ...     0         0\n",
              "4     Perjalanan pahlawan Indonesia KH Ahmad Dahlan ...      1  ...     0         0\n",
              "...                                                 ...    ...  ...   ...       ...\n",
              "1000  Winter in Tokyo berpusat pada kehidupan Ishida...      0  ...     0         1\n",
              "1001  Markonah melarikan diri ke Jakarta karena akan...      0  ...     0         1\n",
              "1002  Tempat aking lebih dari 36 jam, Last Night ada...      0  ...     0         1\n",
              "1003  Proyek baru ini adalah tentang seorang lelaki ...      0  ...     0         1\n",
              "1004  Atika (Meriam Bellina) mantan penyanyi tenar, ...      0  ...     0         1\n",
              "\n",
              "[1005 rows x 6 columns]"
            ]
          },
          "metadata": {},
          "execution_count": 5
        }
      ]
    },
    {
      "cell_type": "code",
      "metadata": {
        "id": "XUSXCunaJa0S"
      },
      "source": [
        "#mengubah nilai-nilai dari dataframe ke dalam tipe data numpy array menggunakan atribut values.\n",
        "sinopsis = df_baru['ringkasan_sinopsis'].values\n",
        "label = df_baru[['Drama', 'Horor', 'Komedi', 'Laga', 'Romantis']].values"
      ],
      "execution_count": null,
      "outputs": []
    },
    {
      "cell_type": "code",
      "metadata": {
        "id": "Ez1SucqCJsKT"
      },
      "source": [
        "#bagi data untuk training dan data untuk testing.\n",
        "from sklearn.model_selection import train_test_split\n",
        "sinopsis_latih, sinopsis_test, label_latih, label_test = train_test_split(sinopsis, label, test_size=0.2)"
      ],
      "execution_count": null,
      "outputs": []
    },
    {
      "cell_type": "code",
      "metadata": {
        "id": "AdOveR4OJ3kC"
      },
      "source": [
        "#ubah setiap kata pada dataset kita ke dalam bilangan numerik \n",
        "#dengan fungsi Tokenizer. Setelah tokenisasi selesai, \n",
        "#kita perlu membuat mengonversi setiap sampel menjadi sequence.\n",
        "\n",
        "from tensorflow.keras.preprocessing.text import Tokenizer\n",
        "from tensorflow.keras.preprocessing.sequence import pad_sequences\n",
        " \n",
        "tokenizer = Tokenizer(num_words=5000, oov_token='x')\n",
        "tokenizer.fit_on_texts(sinopsis_latih) \n",
        "tokenizer.fit_on_texts(sinopsis_test)\n",
        " \n",
        "sekuens_latih = tokenizer.texts_to_sequences(sinopsis_latih)\n",
        "sekuens_test = tokenizer.texts_to_sequences(sinopsis_test)\n",
        " \n",
        "padded_latih = pad_sequences(sekuens_latih) \n",
        "padded_test = pad_sequences(sekuens_test)"
      ],
      "execution_count": null,
      "outputs": []
    },
    {
      "cell_type": "code",
      "metadata": {
        "id": "fjfOSaNIKD7b"
      },
      "source": [
        "# arsitektur model kita menggunakan layer Embedding dengan dimensi embedding sebesar 16, \n",
        "#serta dimensi dari input sebesar nilai num_words pada objek tokenizer.\n",
        "\n",
        "import tensorflow as tf\n",
        "model = tf.keras.Sequential([\n",
        "    tf.keras.layers.Embedding(input_dim=5000, output_dim=16),\n",
        "    tf.keras.layers.LSTM(64),\n",
        "    tf.keras.layers.Dense(128, activation='relu'),\n",
        "    tf.keras.layers.Dense(64, activation='relu'),\n",
        "    tf.keras.layers.Dense(5, activation='softmax')\n",
        "])\n",
        "model.compile(loss='categorical_crossentropy',optimizer='adam',metrics=['accuracy'])"
      ],
      "execution_count": null,
      "outputs": []
    },
    {
      "cell_type": "code",
      "metadata": {
        "colab": {
          "base_uri": "https://localhost:8080/"
        },
        "id": "KHLcqhfBKLeZ",
        "outputId": "b38a4eae-cc09-4faa-eaac-60b72bb22830"
      },
      "source": [
        "#melatih model kita dengan memanggil fungsi fit().\n",
        "num_epochs = 30\n",
        "history = model.fit(padded_latih, label_latih, epochs=num_epochs, \n",
        "                    validation_data=(padded_test, label_test), verbose=2)"
      ],
      "execution_count": null,
      "outputs": [
        {
          "output_type": "stream",
          "name": "stdout",
          "text": [
            "Epoch 1/30\n",
            "26/26 - 27s - loss: 1.6104 - accuracy: 0.2065 - val_loss: 1.6101 - val_accuracy: 0.1741\n",
            "Epoch 2/30\n",
            "26/26 - 24s - loss: 1.6057 - accuracy: 0.2326 - val_loss: 1.6545 - val_accuracy: 0.1741\n",
            "Epoch 3/30\n",
            "26/26 - 24s - loss: 1.5655 - accuracy: 0.3197 - val_loss: 1.5935 - val_accuracy: 0.2338\n",
            "Epoch 4/30\n",
            "26/26 - 24s - loss: 1.2865 - accuracy: 0.4789 - val_loss: 1.5242 - val_accuracy: 0.2886\n",
            "Epoch 5/30\n",
            "26/26 - 24s - loss: 0.8012 - accuracy: 0.6604 - val_loss: 1.9343 - val_accuracy: 0.3731\n",
            "Epoch 6/30\n",
            "26/26 - 24s - loss: 0.4583 - accuracy: 0.8396 - val_loss: 2.6211 - val_accuracy: 0.3085\n",
            "Epoch 7/30\n",
            "26/26 - 25s - loss: 0.2719 - accuracy: 0.9117 - val_loss: 2.4832 - val_accuracy: 0.3582\n",
            "Epoch 8/30\n",
            "26/26 - 25s - loss: 0.1865 - accuracy: 0.9540 - val_loss: 2.8603 - val_accuracy: 0.3284\n",
            "Epoch 9/30\n",
            "26/26 - 24s - loss: 0.1308 - accuracy: 0.9614 - val_loss: 2.8574 - val_accuracy: 0.3383\n",
            "Epoch 10/30\n",
            "26/26 - 25s - loss: 0.0411 - accuracy: 0.9925 - val_loss: 3.5698 - val_accuracy: 0.3433\n",
            "Epoch 11/30\n",
            "26/26 - 24s - loss: 0.0182 - accuracy: 0.9988 - val_loss: 3.9720 - val_accuracy: 0.3682\n",
            "Epoch 12/30\n",
            "26/26 - 24s - loss: 0.0084 - accuracy: 1.0000 - val_loss: 4.0940 - val_accuracy: 0.3532\n",
            "Epoch 13/30\n",
            "26/26 - 25s - loss: 0.0047 - accuracy: 1.0000 - val_loss: 4.4339 - val_accuracy: 0.3284\n",
            "Epoch 14/30\n",
            "26/26 - 24s - loss: 0.0032 - accuracy: 1.0000 - val_loss: 4.6410 - val_accuracy: 0.3632\n",
            "Epoch 15/30\n",
            "26/26 - 24s - loss: 0.0022 - accuracy: 1.0000 - val_loss: 4.9766 - val_accuracy: 0.3383\n",
            "Epoch 16/30\n",
            "26/26 - 24s - loss: 0.0017 - accuracy: 1.0000 - val_loss: 5.0640 - val_accuracy: 0.3184\n",
            "Epoch 17/30\n",
            "26/26 - 24s - loss: 0.0013 - accuracy: 1.0000 - val_loss: 5.2874 - val_accuracy: 0.3234\n",
            "Epoch 18/30\n",
            "26/26 - 25s - loss: 0.0012 - accuracy: 1.0000 - val_loss: 5.4465 - val_accuracy: 0.3184\n",
            "Epoch 19/30\n",
            "26/26 - 24s - loss: 9.0868e-04 - accuracy: 1.0000 - val_loss: 5.6588 - val_accuracy: 0.3234\n",
            "Epoch 20/30\n",
            "26/26 - 25s - loss: 7.8815e-04 - accuracy: 1.0000 - val_loss: 5.7654 - val_accuracy: 0.3134\n",
            "Epoch 21/30\n",
            "26/26 - 24s - loss: 6.8451e-04 - accuracy: 1.0000 - val_loss: 5.9619 - val_accuracy: 0.3184\n",
            "Epoch 22/30\n",
            "26/26 - 24s - loss: 5.9197e-04 - accuracy: 1.0000 - val_loss: 6.0853 - val_accuracy: 0.3134\n",
            "Epoch 23/30\n",
            "26/26 - 24s - loss: 5.0601e-04 - accuracy: 1.0000 - val_loss: 6.2067 - val_accuracy: 0.3134\n",
            "Epoch 24/30\n",
            "26/26 - 24s - loss: 4.4053e-04 - accuracy: 1.0000 - val_loss: 6.3352 - val_accuracy: 0.3035\n",
            "Epoch 25/30\n",
            "26/26 - 25s - loss: 4.0547e-04 - accuracy: 1.0000 - val_loss: 6.4694 - val_accuracy: 0.3085\n",
            "Epoch 26/30\n",
            "26/26 - 24s - loss: 3.6174e-04 - accuracy: 1.0000 - val_loss: 6.5595 - val_accuracy: 0.3085\n",
            "Epoch 27/30\n",
            "26/26 - 24s - loss: 3.1917e-04 - accuracy: 1.0000 - val_loss: 6.7006 - val_accuracy: 0.3035\n",
            "Epoch 28/30\n",
            "26/26 - 24s - loss: 2.9210e-04 - accuracy: 1.0000 - val_loss: 6.8078 - val_accuracy: 0.3035\n",
            "Epoch 29/30\n",
            "26/26 - 24s - loss: 2.7082e-04 - accuracy: 1.0000 - val_loss: 6.8828 - val_accuracy: 0.3035\n",
            "Epoch 30/30\n",
            "26/26 - 24s - loss: 2.2846e-04 - accuracy: 1.0000 - val_loss: 7.0399 - val_accuracy: 0.3134\n"
          ]
        }
      ]
    },
    {
      "cell_type": "code",
      "metadata": {
        "id": "5ds2iPBMKPRj"
      },
      "source": [
        ""
      ],
      "execution_count": null,
      "outputs": []
    }
  ]
}